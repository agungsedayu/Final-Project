{
 "cells": [
  {
   "cell_type": "code",
   "execution_count": 1,
   "metadata": {},
   "outputs": [],
   "source": [
    "import pandas as pd\n",
    "import numpy as np\n",
    "import seaborn as sns\n",
    "import matplotlib.pyplot as plt\n",
    "%matplotlib inline"
   ]
  },
  {
   "cell_type": "code",
   "execution_count": 2,
   "metadata": {},
   "outputs": [
    {
     "data": {
      "text/html": [
       "<div>\n",
       "<style scoped>\n",
       "    .dataframe tbody tr th:only-of-type {\n",
       "        vertical-align: middle;\n",
       "    }\n",
       "\n",
       "    .dataframe tbody tr th {\n",
       "        vertical-align: top;\n",
       "    }\n",
       "\n",
       "    .dataframe thead th {\n",
       "        text-align: right;\n",
       "    }\n",
       "</style>\n",
       "<table border=\"1\" class=\"dataframe\">\n",
       "  <thead>\n",
       "    <tr style=\"text-align: right;\">\n",
       "      <th></th>\n",
       "      <th>Unnamed: 0</th>\n",
       "      <th>Daily Time Spent on Site</th>\n",
       "      <th>Age</th>\n",
       "      <th>Area Income</th>\n",
       "      <th>Daily Internet Usage</th>\n",
       "      <th>Male</th>\n",
       "      <th>Month</th>\n",
       "      <th>Day</th>\n",
       "      <th>Hour</th>\n",
       "      <th>dayofweek</th>\n",
       "      <th>Clicked on Ad</th>\n",
       "    </tr>\n",
       "  </thead>\n",
       "  <tbody>\n",
       "    <tr>\n",
       "      <td>0</td>\n",
       "      <td>0</td>\n",
       "      <td>68.95</td>\n",
       "      <td>0</td>\n",
       "      <td>0.261492</td>\n",
       "      <td>256.09</td>\n",
       "      <td>0</td>\n",
       "      <td>3</td>\n",
       "      <td>27</td>\n",
       "      <td>0</td>\n",
       "      <td>6</td>\n",
       "      <td>0</td>\n",
       "    </tr>\n",
       "    <tr>\n",
       "      <td>1</td>\n",
       "      <td>1</td>\n",
       "      <td>80.23</td>\n",
       "      <td>0</td>\n",
       "      <td>0.619863</td>\n",
       "      <td>193.77</td>\n",
       "      <td>1</td>\n",
       "      <td>4</td>\n",
       "      <td>4</td>\n",
       "      <td>1</td>\n",
       "      <td>0</td>\n",
       "      <td>0</td>\n",
       "    </tr>\n",
       "    <tr>\n",
       "      <td>2</td>\n",
       "      <td>2</td>\n",
       "      <td>69.47</td>\n",
       "      <td>2</td>\n",
       "      <td>0.150424</td>\n",
       "      <td>236.50</td>\n",
       "      <td>0</td>\n",
       "      <td>3</td>\n",
       "      <td>13</td>\n",
       "      <td>20</td>\n",
       "      <td>6</td>\n",
       "      <td>0</td>\n",
       "    </tr>\n",
       "    <tr>\n",
       "      <td>3</td>\n",
       "      <td>3</td>\n",
       "      <td>74.15</td>\n",
       "      <td>0</td>\n",
       "      <td>-0.119645</td>\n",
       "      <td>245.89</td>\n",
       "      <td>1</td>\n",
       "      <td>1</td>\n",
       "      <td>10</td>\n",
       "      <td>2</td>\n",
       "      <td>6</td>\n",
       "      <td>0</td>\n",
       "    </tr>\n",
       "    <tr>\n",
       "      <td>4</td>\n",
       "      <td>4</td>\n",
       "      <td>68.37</td>\n",
       "      <td>0</td>\n",
       "      <td>0.915334</td>\n",
       "      <td>225.58</td>\n",
       "      <td>0</td>\n",
       "      <td>6</td>\n",
       "      <td>3</td>\n",
       "      <td>3</td>\n",
       "      <td>4</td>\n",
       "      <td>0</td>\n",
       "    </tr>\n",
       "    <tr>\n",
       "      <td>...</td>\n",
       "      <td>...</td>\n",
       "      <td>...</td>\n",
       "      <td>...</td>\n",
       "      <td>...</td>\n",
       "      <td>...</td>\n",
       "      <td>...</td>\n",
       "      <td>...</td>\n",
       "      <td>...</td>\n",
       "      <td>...</td>\n",
       "      <td>...</td>\n",
       "      <td>...</td>\n",
       "    </tr>\n",
       "    <tr>\n",
       "      <td>995</td>\n",
       "      <td>995</td>\n",
       "      <td>72.97</td>\n",
       "      <td>0</td>\n",
       "      <td>0.779457</td>\n",
       "      <td>208.58</td>\n",
       "      <td>1</td>\n",
       "      <td>2</td>\n",
       "      <td>11</td>\n",
       "      <td>21</td>\n",
       "      <td>3</td>\n",
       "      <td>1</td>\n",
       "    </tr>\n",
       "    <tr>\n",
       "      <td>996</td>\n",
       "      <td>996</td>\n",
       "      <td>51.30</td>\n",
       "      <td>1</td>\n",
       "      <td>0.584086</td>\n",
       "      <td>134.42</td>\n",
       "      <td>1</td>\n",
       "      <td>4</td>\n",
       "      <td>22</td>\n",
       "      <td>2</td>\n",
       "      <td>4</td>\n",
       "      <td>1</td>\n",
       "    </tr>\n",
       "    <tr>\n",
       "      <td>997</td>\n",
       "      <td>997</td>\n",
       "      <td>51.63</td>\n",
       "      <td>1</td>\n",
       "      <td>-0.791622</td>\n",
       "      <td>120.37</td>\n",
       "      <td>1</td>\n",
       "      <td>2</td>\n",
       "      <td>1</td>\n",
       "      <td>17</td>\n",
       "      <td>0</td>\n",
       "      <td>1</td>\n",
       "    </tr>\n",
       "    <tr>\n",
       "      <td>998</td>\n",
       "      <td>998</td>\n",
       "      <td>55.55</td>\n",
       "      <td>2</td>\n",
       "      <td>-0.818463</td>\n",
       "      <td>187.95</td>\n",
       "      <td>0</td>\n",
       "      <td>3</td>\n",
       "      <td>24</td>\n",
       "      <td>2</td>\n",
       "      <td>3</td>\n",
       "      <td>0</td>\n",
       "    </tr>\n",
       "    <tr>\n",
       "      <td>999</td>\n",
       "      <td>999</td>\n",
       "      <td>45.01</td>\n",
       "      <td>2</td>\n",
       "      <td>-1.471704</td>\n",
       "      <td>178.35</td>\n",
       "      <td>0</td>\n",
       "      <td>6</td>\n",
       "      <td>3</td>\n",
       "      <td>21</td>\n",
       "      <td>4</td>\n",
       "      <td>1</td>\n",
       "    </tr>\n",
       "  </tbody>\n",
       "</table>\n",
       "<p>1000 rows × 11 columns</p>\n",
       "</div>"
      ],
      "text/plain": [
       "     Unnamed: 0  Daily Time Spent on Site  Age  Area Income  \\\n",
       "0             0                     68.95    0     0.261492   \n",
       "1             1                     80.23    0     0.619863   \n",
       "2             2                     69.47    2     0.150424   \n",
       "3             3                     74.15    0    -0.119645   \n",
       "4             4                     68.37    0     0.915334   \n",
       "..          ...                       ...  ...          ...   \n",
       "995         995                     72.97    0     0.779457   \n",
       "996         996                     51.30    1     0.584086   \n",
       "997         997                     51.63    1    -0.791622   \n",
       "998         998                     55.55    2    -0.818463   \n",
       "999         999                     45.01    2    -1.471704   \n",
       "\n",
       "     Daily Internet Usage  Male  Month  Day  Hour  dayofweek  Clicked on Ad  \n",
       "0                  256.09     0      3   27     0          6              0  \n",
       "1                  193.77     1      4    4     1          0              0  \n",
       "2                  236.50     0      3   13    20          6              0  \n",
       "3                  245.89     1      1   10     2          6              0  \n",
       "4                  225.58     0      6    3     3          4              0  \n",
       "..                    ...   ...    ...  ...   ...        ...            ...  \n",
       "995                208.58     1      2   11    21          3              1  \n",
       "996                134.42     1      4   22     2          4              1  \n",
       "997                120.37     1      2    1    17          0              1  \n",
       "998                187.95     0      3   24     2          3              0  \n",
       "999                178.35     0      6    3    21          4              1  \n",
       "\n",
       "[1000 rows x 11 columns]"
      ]
     },
     "execution_count": 2,
     "metadata": {},
     "output_type": "execute_result"
    }
   ],
   "source": [
    "ad_data = pd.read_csv('advertisingREADY.csv')\n",
    "ad_data"
   ]
  },
  {
   "cell_type": "code",
   "execution_count": 3,
   "metadata": {},
   "outputs": [
    {
     "data": {
      "text/plain": [
       "Index(['Unnamed: 0', 'Daily Time Spent on Site', 'Age', 'Area Income',\n",
       "       'Daily Internet Usage', 'Male', 'Month', 'Day', 'Hour', 'dayofweek',\n",
       "       'Clicked on Ad'],\n",
       "      dtype='object')"
      ]
     },
     "execution_count": 3,
     "metadata": {},
     "output_type": "execute_result"
    }
   ],
   "source": [
    "ad_data.columns"
   ]
  },
  {
   "cell_type": "code",
   "execution_count": 4,
   "metadata": {},
   "outputs": [],
   "source": [
    "ad_data = ad_data.drop(['Unnamed: 0'], axis=1)"
   ]
  },
  {
   "cell_type": "code",
   "execution_count": 5,
   "metadata": {},
   "outputs": [
    {
     "data": {
      "text/html": [
       "<div>\n",
       "<style scoped>\n",
       "    .dataframe tbody tr th:only-of-type {\n",
       "        vertical-align: middle;\n",
       "    }\n",
       "\n",
       "    .dataframe tbody tr th {\n",
       "        vertical-align: top;\n",
       "    }\n",
       "\n",
       "    .dataframe thead th {\n",
       "        text-align: right;\n",
       "    }\n",
       "</style>\n",
       "<table border=\"1\" class=\"dataframe\">\n",
       "  <thead>\n",
       "    <tr style=\"text-align: right;\">\n",
       "      <th></th>\n",
       "      <th>Daily Time Spent on Site</th>\n",
       "      <th>Age</th>\n",
       "      <th>Area Income</th>\n",
       "      <th>Daily Internet Usage</th>\n",
       "      <th>Male</th>\n",
       "      <th>Month</th>\n",
       "      <th>Day</th>\n",
       "      <th>Hour</th>\n",
       "      <th>dayofweek</th>\n",
       "      <th>Clicked on Ad</th>\n",
       "    </tr>\n",
       "  </thead>\n",
       "  <tbody>\n",
       "    <tr>\n",
       "      <td>0</td>\n",
       "      <td>68.95</td>\n",
       "      <td>0</td>\n",
       "      <td>0.261492</td>\n",
       "      <td>256.09</td>\n",
       "      <td>0</td>\n",
       "      <td>3</td>\n",
       "      <td>27</td>\n",
       "      <td>0</td>\n",
       "      <td>6</td>\n",
       "      <td>0</td>\n",
       "    </tr>\n",
       "    <tr>\n",
       "      <td>1</td>\n",
       "      <td>80.23</td>\n",
       "      <td>0</td>\n",
       "      <td>0.619863</td>\n",
       "      <td>193.77</td>\n",
       "      <td>1</td>\n",
       "      <td>4</td>\n",
       "      <td>4</td>\n",
       "      <td>1</td>\n",
       "      <td>0</td>\n",
       "      <td>0</td>\n",
       "    </tr>\n",
       "    <tr>\n",
       "      <td>2</td>\n",
       "      <td>69.47</td>\n",
       "      <td>2</td>\n",
       "      <td>0.150424</td>\n",
       "      <td>236.50</td>\n",
       "      <td>0</td>\n",
       "      <td>3</td>\n",
       "      <td>13</td>\n",
       "      <td>20</td>\n",
       "      <td>6</td>\n",
       "      <td>0</td>\n",
       "    </tr>\n",
       "    <tr>\n",
       "      <td>3</td>\n",
       "      <td>74.15</td>\n",
       "      <td>0</td>\n",
       "      <td>-0.119645</td>\n",
       "      <td>245.89</td>\n",
       "      <td>1</td>\n",
       "      <td>1</td>\n",
       "      <td>10</td>\n",
       "      <td>2</td>\n",
       "      <td>6</td>\n",
       "      <td>0</td>\n",
       "    </tr>\n",
       "    <tr>\n",
       "      <td>4</td>\n",
       "      <td>68.37</td>\n",
       "      <td>0</td>\n",
       "      <td>0.915334</td>\n",
       "      <td>225.58</td>\n",
       "      <td>0</td>\n",
       "      <td>6</td>\n",
       "      <td>3</td>\n",
       "      <td>3</td>\n",
       "      <td>4</td>\n",
       "      <td>0</td>\n",
       "    </tr>\n",
       "  </tbody>\n",
       "</table>\n",
       "</div>"
      ],
      "text/plain": [
       "   Daily Time Spent on Site  Age  Area Income  Daily Internet Usage  Male  \\\n",
       "0                     68.95    0     0.261492                256.09     0   \n",
       "1                     80.23    0     0.619863                193.77     1   \n",
       "2                     69.47    2     0.150424                236.50     0   \n",
       "3                     74.15    0    -0.119645                245.89     1   \n",
       "4                     68.37    0     0.915334                225.58     0   \n",
       "\n",
       "   Month  Day  Hour  dayofweek  Clicked on Ad  \n",
       "0      3   27     0          6              0  \n",
       "1      4    4     1          0              0  \n",
       "2      3   13    20          6              0  \n",
       "3      1   10     2          6              0  \n",
       "4      6    3     3          4              0  "
      ]
     },
     "execution_count": 5,
     "metadata": {},
     "output_type": "execute_result"
    }
   ],
   "source": [
    "ad_data.head()"
   ]
  },
  {
   "cell_type": "code",
   "execution_count": 6,
   "metadata": {},
   "outputs": [
    {
     "data": {
      "image/png": "[encoded data removed]",
      "text/plain": [
       "<Figure size 1440x360 with 5 Axes>"
      ]
     },
     "metadata": {
      "needs_background": "light"
     },
     "output_type": "display_data"
    }
   ],
   "source": [
    "plt.figure(2, figsize = (20,5))\n",
    "n = 0\n",
    "for x in ['Daily Time Spent on Site', 'Age', 'Area Income', 'Daily Internet Usage', 'Male']:\n",
    "    n += 1\n",
    "    plt.subplot(1, 5, n)\n",
    "    plt.subplots_adjust(hspace = 0.5, wspace = 0.5)\n",
    "    sns.distplot(ad_data[x], bins = 20)\n",
    "    plt.title(' {}'.format(x))\n",
    "plt.show()"
   ]
  },
  {
   "cell_type": "code",
   "execution_count": 7,
   "metadata": {},
   "outputs": [
    {
     "data": {
      "image/png": "[encoded data removed]",
      "text/plain": [
       "<Figure size 1440x360 with 4 Axes>"
      ]
     },
     "metadata": {
      "needs_background": "light"
     },
     "output_type": "display_data"
    }
   ],
   "source": [
    "plt.figure(2, figsize = (20,5))\n",
    "n = 0\n",
    "for x in ['Month', 'Day', 'Hour', 'dayofweek']:\n",
    "    n += 1\n",
    "    plt.subplot(1, 4, n)\n",
    "    plt.subplots_adjust(hspace = 0.5, wspace = 0.5)\n",
    "    sns.distplot(ad_data[x], bins = 20)\n",
    "    plt.title(' {}'.format(x))\n",
    "plt.show()"
   ]
  },
  {
   "cell_type": "markdown",
   "metadata": {},
   "source": [
    "### Model Development\n",
    "\n",
    "- Model pertama yang kita pakai pada dataset ini adalah Logistic Regression, karena model ini menggunakan variabel dependent yang binary yaitu pada fitur Clicked on Ad\n",
    "<br>\n",
    "<br>\n",
    "- Decision Tree merupakan basic modeling pada klasifikasi, ada sedikit kekurangan jika datanya berubah sedikit hasilnya akan sangat jauh berbeda. Decision Tree juga besar resiko akan overfitting.\n",
    "<br>\n",
    "<br>\n",
    "- Model ketiga yang dipakai adalah Random Forest, karena model ini sangat umum dipakai untuk modeling yang bertujuan klasifikasi, prediksi dll. Model ini juga bisa dibilang lanjutan dari Decision Tree.\n",
    "<br>\n",
    "<br>\n",
    "- KNN atau K-Nearet Neighbour kita pakai di model selanjutnya yang merupakan basic model untuk klasifikasi yang tingkat akurasinya tinggi walaupun menggunakan memori yang banyak "
   ]
  },
  {
   "cell_type": "markdown",
   "metadata": {},
   "source": [
    "# Logistic Regression"
   ]
  },
  {
   "cell_type": "code",
   "execution_count": 8,
   "metadata": {},
   "outputs": [],
   "source": [
    "from sklearn.metrics import accuracy_score\n",
    "from sklearn.metrics import confusion_matrix\n",
    "from sklearn.metrics import classification_report\n",
    "\n",
    "import warnings\n",
    "warnings.filterwarnings(\"ignore\")"
   ]
  },
  {
   "cell_type": "code",
   "execution_count": 9,
   "metadata": {},
   "outputs": [],
   "source": [
    "from sklearn.model_selection import train_test_split\n",
    "\n",
    "# Splitting dataset\n",
    "X = ad_data[['Daily Time Spent on Site', 'Age', 'Area Income','Daily Internet Usage', 'Male', 'Month', 'Day', 'Hour', 'dayofweek']]\n",
    "y = ad_data['Clicked on Ad']"
   ]
  },
  {
   "cell_type": "code",
   "execution_count": 10,
   "metadata": {},
   "outputs": [],
   "source": [
    "X_train, X_test, y_train, y_test = train_test_split(X, y, test_size=0.20, shuffle=False)"
   ]
  },
  {
   "cell_type": "markdown",
   "metadata": {},
   "source": [
    "### Scaling Data"
   ]
  },
  {
   "cell_type": "code",
   "execution_count": 11,
   "metadata": {},
   "outputs": [],
   "source": [
    "from sklearn.preprocessing import StandardScaler\n",
    "\n",
    "# Scaling the data\n",
    "standardScaler = StandardScaler()\n",
    "X_train = standardScaler.fit_transform(X_train)\n",
    "X_test = standardScaler.transform(X_test)"
   ]
  },
  {
   "cell_type": "markdown",
   "metadata": {},
   "source": [
    "- Scalling data memakai Standard scaler untuk memaksa data untuk berdistribusi normal\n",
    "- dengan data yang berdistribusi normal akan meningkatkan score model"
   ]
  },
  {
   "cell_type": "code",
   "execution_count": 12,
   "metadata": {},
   "outputs": [],
   "source": [
    "from sklearn.linear_model import LogisticRegression\n",
    "\n",
    "# Initiate and fit Logistic Regression Model\n",
    "modelLR = LogisticRegression(solver='lbfgs')\n",
    "modelLR.fit(X_train, y_train)\n",
    "\n",
    "#Prediction\n",
    "y_predLR = modelLR.predict(X_test)"
   ]
  },
  {
   "cell_type": "code",
   "execution_count": 13,
   "metadata": {},
   "outputs": [
    {
     "name": "stdout",
     "output_type": "stream",
     "text": [
      "\n",
      "Confusion Matrix:\n"
     ]
    },
    {
     "data": {
      "text/plain": [
       "array([[ 86,   2],\n",
       "       [  7, 105]], dtype=int64)"
      ]
     },
     "execution_count": 13,
     "metadata": {},
     "output_type": "execute_result"
    }
   ],
   "source": [
    "print('\\nConfusion Matrix:')\n",
    "CMLR = confusion_matrix(y_test, y_predLR)\n",
    "CMLR"
   ]
  },
  {
   "cell_type": "markdown",
   "metadata": {},
   "source": [
    "- Dari score yang ditunjukan oleh confusion matrix jumlah prediksi yang akurat adalah <b>86 + 105 = 191</b>. dan jumlah prediksi yang tidak tepat adalah <b>2 + 7 = 9</b>. Dari jumlah nilai ini kita bisa asumsikan prediksi dari model ini cukup bagus"
   ]
  },
  {
   "cell_type": "code",
   "execution_count": 14,
   "metadata": {},
   "outputs": [],
   "source": [
    "labels = ['Click', 'NoClick']"
   ]
  },
  {
   "cell_type": "code",
   "execution_count": 15,
   "metadata": {},
   "outputs": [
    {
     "name": "stdout",
     "output_type": "stream",
     "text": [
      "              precision    recall  f1-score   support\n",
      "\n",
      "       Click       0.92      0.98      0.95        88\n",
      "     NoClick       0.98      0.94      0.96       112\n",
      "\n",
      "    accuracy                           0.95       200\n",
      "   macro avg       0.95      0.96      0.95       200\n",
      "weighted avg       0.96      0.95      0.96       200\n",
      "\n"
     ]
    },
    {
     "data": {
      "image/png": "[encoded data removed]",
      "text/plain": [
       "<Figure size 576x360 with 2 Axes>"
      ]
     },
     "metadata": {
      "needs_background": "light"
     },
     "output_type": "display_data"
    }
   ],
   "source": [
    "print(classification_report(y_test, y_predLR, target_names = labels))\n",
    "\n",
    "f, ax = plt.subplots(figsize=(8,5))\n",
    "sns.heatmap(CMLR, annot=True, fmt=\".0f\", cmap='Greens', ax=ax)\n",
    "plt.title('Confusion matrix for Logistic Regression', y=1, size=10)\n",
    "\n",
    "ax.xaxis.set_ticklabels(labels)\n",
    "ax.yaxis.set_ticklabels(labels)\n",
    "\n",
    "plt.xlabel(\"y AKTUAL\")\n",
    "plt.ylabel(\"y PREDIKSI\")\n",
    "plt.show()"
   ]
  },
  {
   "cell_type": "markdown",
   "metadata": {},
   "source": [
    "# Random Forest"
   ]
  },
  {
   "cell_type": "code",
   "execution_count": 16,
   "metadata": {},
   "outputs": [],
   "source": [
    "from sklearn.ensemble import RandomForestClassifier\n",
    "\n",
    "modelRF = RandomForestClassifier()\n",
    "modelRF.fit(X_train, y_train)\n",
    "\n",
    "# Prediction\n",
    "y_predRF = modelRF.predict(X_test)"
   ]
  },
  {
   "cell_type": "code",
   "execution_count": 17,
   "metadata": {},
   "outputs": [
    {
     "name": "stdout",
     "output_type": "stream",
     "text": [
      "\n",
      "Confusion Matrix:\n"
     ]
    },
    {
     "data": {
      "text/plain": [
       "array([[ 85,   3],\n",
       "       [  5, 107]], dtype=int64)"
      ]
     },
     "execution_count": 17,
     "metadata": {},
     "output_type": "execute_result"
    }
   ],
   "source": [
    "print('\\nConfusion Matrix:')\n",
    "CMRF = confusion_matrix(y_test, y_predRF)\n",
    "CMRF"
   ]
  },
  {
   "cell_type": "markdown",
   "metadata": {},
   "source": [
    "- Dari score yang ditunjukan oleh confusion matrix jumlah prediksi yang akurat adalah <b>86 + 105 = 191</b>. dan jumlah prediksi yang tidak tepat adalah <b>2 + 7 = 9</b>. Dari jumlah nilai ini kita bisa asumsikan prediksi dari model ini cukup bagus"
   ]
  },
  {
   "cell_type": "code",
   "execution_count": 18,
   "metadata": {},
   "outputs": [],
   "source": [
    "labels = ['Click', 'NoClick']"
   ]
  },
  {
   "cell_type": "code",
   "execution_count": 19,
   "metadata": {},
   "outputs": [
    {
     "name": "stdout",
     "output_type": "stream",
     "text": [
      "              precision    recall  f1-score   support\n",
      "\n",
      "       Click       0.94      0.97      0.96        88\n",
      "     NoClick       0.97      0.96      0.96       112\n",
      "\n",
      "    accuracy                           0.96       200\n",
      "   macro avg       0.96      0.96      0.96       200\n",
      "weighted avg       0.96      0.96      0.96       200\n",
      "\n"
     ]
    },
    {
     "data": {
      "image/png": "[encoded data removed]",
      "text/plain": [
       "<Figure size 576x360 with 2 Axes>"
      ]
     },
     "metadata": {
      "needs_background": "light"
     },
     "output_type": "display_data"
    }
   ],
   "source": [
    "print(classification_report(y_test, y_predRF, target_names = labels))\n",
    "\n",
    "f, ax = plt.subplots(figsize=(8,5))\n",
    "sns.heatmap(CMRF, annot=True, fmt=\".0f\", cmap='Reds', ax=ax)\n",
    "plt.title('Confusion matrix for Random Forest', y=1, size=10)\n",
    "\n",
    "ax.xaxis.set_ticklabels(labels)\n",
    "ax.yaxis.set_ticklabels(labels)\n",
    "\n",
    "plt.xlabel(\"y AKTUAL\")\n",
    "plt.ylabel(\"y PREDIKSI\")\n",
    "plt.show()"
   ]
  },
  {
   "cell_type": "markdown",
   "metadata": {},
   "source": [
    "## KNN"
   ]
  },
  {
   "cell_type": "code",
   "execution_count": 20,
   "metadata": {},
   "outputs": [],
   "source": [
    "from sklearn.neighbors import KNeighborsClassifier\n",
    "\n",
    "\n",
    "modelKNN = KNeighborsClassifier()\n",
    "modelKNN.fit(X_train, y_train)\n",
    "\n",
    "# Prediction\n",
    "y_predKNN = modelKNN.predict(X_test)"
   ]
  },
  {
   "cell_type": "code",
   "execution_count": 21,
   "metadata": {},
   "outputs": [
    {
     "name": "stdout",
     "output_type": "stream",
     "text": [
      "\n",
      "Confusion Matrix:\n"
     ]
    },
    {
     "data": {
      "text/plain": [
       "array([[ 88,   0],\n",
       "       [  9, 103]], dtype=int64)"
      ]
     },
     "execution_count": 21,
     "metadata": {},
     "output_type": "execute_result"
    }
   ],
   "source": [
    "print('\\nConfusion Matrix:')\n",
    "CMKNN = confusion_matrix(y_test, y_predKNN)\n",
    "CMKNN"
   ]
  },
  {
   "cell_type": "markdown",
   "metadata": {},
   "source": [
    "- Dari score yang ditunjukan oleh confusion matrix jumlah prediksi yang akurat adalah <b>88 + 103 = 191</b>. dan jumlah prediksi yang tidak tepat adalah <b>0 + 9 = 9</b>. Dari jumlah nilai ini kita bisa asumsikan prediksi dari model ini cukup bagus"
   ]
  },
  {
   "cell_type": "code",
   "execution_count": 22,
   "metadata": {},
   "outputs": [],
   "source": [
    "labels = ['Click', 'NoClick']"
   ]
  },
  {
   "cell_type": "code",
   "execution_count": 23,
   "metadata": {},
   "outputs": [
    {
     "name": "stdout",
     "output_type": "stream",
     "text": [
      "              precision    recall  f1-score   support\n",
      "\n",
      "       Click       0.91      1.00      0.95        88\n",
      "     NoClick       1.00      0.92      0.96       112\n",
      "\n",
      "    accuracy                           0.95       200\n",
      "   macro avg       0.95      0.96      0.95       200\n",
      "weighted avg       0.96      0.95      0.96       200\n",
      "\n"
     ]
    },
    {
     "data": {
      "image/png": "[encoded data removed]",
      "text/plain": [
       "<Figure size 576x360 with 2 Axes>"
      ]
     },
     "metadata": {
      "needs_background": "light"
     },
     "output_type": "display_data"
    }
   ],
   "source": [
    "print(classification_report(y_test, y_predKNN, target_names = labels))\n",
    "\n",
    "f, ax = plt.subplots(figsize=(8,5))\n",
    "sns.heatmap(CMKNN, annot=True, fmt=\".0f\", cmap='Blues', ax=ax)\n",
    "plt.title('Confusion matrix for KNN', y=1, size=10)\n",
    "\n",
    "ax.xaxis.set_ticklabels(labels)\n",
    "ax.yaxis.set_ticklabels(labels)\n",
    "\n",
    "plt.xlabel(\"y AKTUAL\")\n",
    "plt.ylabel(\"y PREDIKSI\")\n",
    "plt.show()"
   ]
  },
  {
   "cell_type": "markdown",
   "metadata": {},
   "source": [
    "## Decision Tree"
   ]
  },
  {
   "cell_type": "code",
   "execution_count": 24,
   "metadata": {},
   "outputs": [],
   "source": [
    "from sklearn.tree import DecisionTreeClassifier\n",
    "\n",
    "modelDT = DecisionTreeClassifier()\n",
    "modelDT.fit(X_train, y_train)\n",
    "\n",
    "# Prediction\n",
    "y_predDT = modelDT.predict(X_test)"
   ]
  },
  {
   "cell_type": "code",
   "execution_count": 25,
   "metadata": {},
   "outputs": [
    {
     "name": "stdout",
     "output_type": "stream",
     "text": [
      "\n",
      "Confusion Matrix:\n"
     ]
    },
    {
     "data": {
      "text/plain": [
       "array([[ 83,   5],\n",
       "       [  7, 105]], dtype=int64)"
      ]
     },
     "execution_count": 25,
     "metadata": {},
     "output_type": "execute_result"
    }
   ],
   "source": [
    "print('\\nConfusion Matrix:')\n",
    "CMDT = confusion_matrix(y_test, y_predDT)\n",
    "CMDT"
   ]
  },
  {
   "cell_type": "markdown",
   "metadata": {},
   "source": [
    "- Dari score yang ditunjukan oleh confusion matrix jumlah prediksi yang akurat adalah <b>84 + 106 = 190</b>. dan jumlah prediksi yang tidak tepat adalah <b>4 + 6 = 10</b>. Dari jumlah nilai ini kita bisa asumsikan prediksi dari model ini cukup bagus"
   ]
  },
  {
   "cell_type": "code",
   "execution_count": 26,
   "metadata": {},
   "outputs": [],
   "source": [
    "labels = ['Click', 'NoClick']"
   ]
  },
  {
   "cell_type": "code",
   "execution_count": 27,
   "metadata": {},
   "outputs": [
    {
     "name": "stdout",
     "output_type": "stream",
     "text": [
      "              precision    recall  f1-score   support\n",
      "\n",
      "       Click       0.92      0.94      0.93        88\n",
      "     NoClick       0.95      0.94      0.95       112\n",
      "\n",
      "    accuracy                           0.94       200\n",
      "   macro avg       0.94      0.94      0.94       200\n",
      "weighted avg       0.94      0.94      0.94       200\n",
      "\n"
     ]
    },
    {
     "data": {
      "image/png": "[encoded data removed]",
      "text/plain": [
       "<Figure size 576x360 with 2 Axes>"
      ]
     },
     "metadata": {
      "needs_background": "light"
     },
     "output_type": "display_data"
    }
   ],
   "source": [
    "print(classification_report(y_test, y_predDT, target_names = labels))\n",
    "\n",
    "f, ax = plt.subplots(figsize=(8,5))\n",
    "sns.heatmap(CMDT, annot=True, fmt=\".0f\", cmap='mako', ax=ax)\n",
    "plt.title('Confusion matrix for Decision Tree', y=1, size=10)\n",
    "\n",
    "ax.xaxis.set_ticklabels(labels)\n",
    "ax.yaxis.set_ticklabels(labels)\n",
    "\n",
    "plt.xlabel(\"y AKTUAL\")\n",
    "plt.ylabel(\"y PREDIKSI\")\n",
    "plt.show()"
   ]
  },
  {
   "cell_type": "markdown",
   "metadata": {},
   "source": [
    "# Compare Models"
   ]
  },
  {
   "cell_type": "code",
   "execution_count": 28,
   "metadata": {},
   "outputs": [],
   "source": [
    "from sklearn.metrics import precision_score, recall_score, f1_score"
   ]
  },
  {
   "cell_type": "code",
   "execution_count": 29,
   "metadata": {},
   "outputs": [
    {
     "data": {
      "text/html": [
       "<div>\n",
       "<style scoped>\n",
       "    .dataframe tbody tr th:only-of-type {\n",
       "        vertical-align: middle;\n",
       "    }\n",
       "\n",
       "    .dataframe tbody tr th {\n",
       "        vertical-align: top;\n",
       "    }\n",
       "\n",
       "    .dataframe thead th {\n",
       "        text-align: right;\n",
       "    }\n",
       "</style>\n",
       "<table border=\"1\" class=\"dataframe\">\n",
       "  <thead>\n",
       "    <tr style=\"text-align: right;\">\n",
       "      <th></th>\n",
       "      <th>Model</th>\n",
       "      <th>XY Test Model Score</th>\n",
       "      <th>XY Train Model Score</th>\n",
       "      <th>Precision Score</th>\n",
       "      <th>Recall Score</th>\n",
       "      <th>f1 Score</th>\n",
       "      <th>Accuracy Score</th>\n",
       "    </tr>\n",
       "  </thead>\n",
       "  <tbody>\n",
       "    <tr>\n",
       "      <td>0</td>\n",
       "      <td>Logistic Regression</td>\n",
       "      <td>0.955</td>\n",
       "      <td>0.96625</td>\n",
       "      <td>0.981308</td>\n",
       "      <td>0.937500</td>\n",
       "      <td>0.958904</td>\n",
       "      <td>0.955</td>\n",
       "    </tr>\n",
       "    <tr>\n",
       "      <td>1</td>\n",
       "      <td>Random Forest</td>\n",
       "      <td>0.960</td>\n",
       "      <td>1.00000</td>\n",
       "      <td>0.972727</td>\n",
       "      <td>0.955357</td>\n",
       "      <td>0.963964</td>\n",
       "      <td>0.960</td>\n",
       "    </tr>\n",
       "    <tr>\n",
       "      <td>2</td>\n",
       "      <td>KNearestNeighbors</td>\n",
       "      <td>0.955</td>\n",
       "      <td>0.95500</td>\n",
       "      <td>1.000000</td>\n",
       "      <td>0.919643</td>\n",
       "      <td>0.958140</td>\n",
       "      <td>0.955</td>\n",
       "    </tr>\n",
       "    <tr>\n",
       "      <td>3</td>\n",
       "      <td>Decision Tree</td>\n",
       "      <td>0.940</td>\n",
       "      <td>1.00000</td>\n",
       "      <td>0.954545</td>\n",
       "      <td>0.937500</td>\n",
       "      <td>0.945946</td>\n",
       "      <td>0.940</td>\n",
       "    </tr>\n",
       "  </tbody>\n",
       "</table>\n",
       "</div>"
      ],
      "text/plain": [
       "                 Model  XY Test Model Score  XY Train Model Score  \\\n",
       "0  Logistic Regression                0.955               0.96625   \n",
       "1        Random Forest                0.960               1.00000   \n",
       "2    KNearestNeighbors                0.955               0.95500   \n",
       "3        Decision Tree                0.940               1.00000   \n",
       "\n",
       "   Precision Score  Recall Score  f1 Score  Accuracy Score  \n",
       "0         0.981308      0.937500  0.958904           0.955  \n",
       "1         0.972727      0.955357  0.963964           0.960  \n",
       "2         1.000000      0.919643  0.958140           0.955  \n",
       "3         0.954545      0.937500  0.945946           0.940  "
      ]
     },
     "execution_count": 29,
     "metadata": {},
     "output_type": "execute_result"
    }
   ],
   "source": [
    "f1_scoreLR = f1_score(y_test, y_predLR)\n",
    "f1_scoreRF = f1_score(y_test, y_predRF)\n",
    "f1_scoreKNN = f1_score(y_test, y_predKNN)\n",
    "f1_scoreDT = f1_score(y_test, y_predDT)\n",
    "\n",
    "precision_scoreLR = precision_score(y_test, y_predLR)\n",
    "precision_scoreRF = precision_score(y_test, y_predRF)\n",
    "precision_scoreKNN = precision_score(y_test, y_predKNN)\n",
    "precision_scoreDT = precision_score(y_test, y_predDT)\n",
    "\n",
    "recall_scoreLR = recall_score(y_test, y_predLR)\n",
    "recall_scoreRF = recall_score(y_test, y_predRF)\n",
    "recall_scoreKNN = recall_score(y_test, y_predKNN)\n",
    "recall_scoreDT = recall_score(y_test, y_predDT)\n",
    "\n",
    "accuracy_scoreLR = accuracy_score(y_test, y_predLR)\n",
    "accuracy_scoreRF = accuracy_score(y_test, y_predRF)\n",
    "accuracy_scoreKNN = accuracy_score(y_test, y_predKNN)\n",
    "accuracy_scoreDT = accuracy_score(y_test, y_predDT)\n",
    "\n",
    "XYtrain_scoreLR = modelLR.score(X_train, y_train)\n",
    "XYtrain_scoreRF = modelRF.score(X_train, y_train)\n",
    "XYtrain_scoreKNN = modelKNN.score(X_train, y_train)\n",
    "XYtrain_scoreDT = modelDT.score(X_train, y_train)\n",
    "\n",
    "XYtest_scoreLR = modelLR.score(X_test, y_test)\n",
    "XYtest_scoreRF = modelRF.score(X_test, y_test)\n",
    "XYtest_scoreKNN = modelKNN.score(X_test, y_test)\n",
    "XYtest_scoreDT = modelDT.score(X_test, y_test)\n",
    "\n",
    "\n",
    "\n",
    "scores = {'Model': ['Logistic Regression', 'Random Forest', 'KNearestNeighbors', 'Decision Tree'],\n",
    "          'XY Test Model Score' :[XYtest_scoreLR, XYtest_scoreRF, XYtest_scoreKNN, XYtest_scoreDT],\n",
    "          'XY Train Model Score' : [XYtrain_scoreLR, XYtrain_scoreRF, XYtrain_scoreKNN, XYtrain_scoreDT],\n",
    "          'Precision Score': [precision_scoreLR, precision_scoreRF, precision_scoreKNN, precision_scoreDT],\n",
    "         'Recall Score' : [recall_scoreLR, recall_scoreRF, recall_scoreKNN, recall_scoreDT],\n",
    "          'f1 Score' : [f1_scoreLR, f1_scoreRF, f1_scoreKNN, f1_scoreDT],\n",
    "         'Accuracy Score' : [accuracy_scoreLR, accuracy_scoreRF, accuracy_scoreKNN, accuracy_scoreDT]}\n",
    "\n",
    "model_compare = pd.DataFrame(scores, columns=['Model', 'XY Test Model Score', 'XY Train Model Score', 'Precision Score', 'Recall Score', 'f1 Score', 'Accuracy Score'])\n",
    "model_compare"
   ]
  },
  {
   "cell_type": "markdown",
   "metadata": {},
   "source": [
    "- Dari komparasi ini bisa kita ambil kesimpulan yaitu:\n",
    "1. Kalau kita lihat dari fitur XY Test dan XY train untuk mengecek under atau overfitting. Tidak ada satupun dari 4 model yang under atau over fitting karena semua nilai score dari masing masing model berdekatan.\n",
    "2. Semua model bisa dibilang bagus mungkin juga karena datasetnya sudah bagus bisa dilihat salah satunya tidak adanya missing value ataupun NaN\n",
    "3. Dari 4 model ini kita ambil 2 yang paling bagus berdasarkan f1 score yaitu Logistic Regression dan Random Forest\n",
    "4. Kenapa kita lihat dari f1 score karena f1 score merupakan rata rata dari precision dan recall score"
   ]
  },
  {
   "cell_type": "markdown",
   "metadata": {},
   "source": [
    "# Find Best Parameters"
   ]
  },
  {
   "cell_type": "markdown",
   "metadata": {},
   "source": [
    "### Hyperparameters for Logistic Regression\n",
    "\n",
    "menggunakan Grid Search meskipun memakan waktu agak lama tapi parameter yang didapat lebih akurat"
   ]
  },
  {
   "cell_type": "code",
   "execution_count": 30,
   "metadata": {},
   "outputs": [],
   "source": [
    "from sklearn.model_selection import GridSearchCV\n",
    "\n",
    "penalty = ['l1', 'l2', 'elasticnet', 'none']\n",
    "solver = ['newton-cg', 'lbfgs', 'liblinear', 'sag', 'saga']\n",
    "max_iter = [1, 10, 100, 1000, 10000]\n",
    "\n",
    "LRparam = {'penalty': penalty, 'solver': solver, 'max_iter': max_iter}"
   ]
  },
  {
   "cell_type": "code",
   "execution_count": 31,
   "metadata": {},
   "outputs": [],
   "source": [
    "modelLR_GS = LogisticRegression()\n",
    "modelLR_GS = GridSearchCV(\n",
    "    modelLR_GS, LRparam, cv = 5)"
   ]
  },
  {
   "cell_type": "code",
   "execution_count": 32,
   "metadata": {},
   "outputs": [
    {
     "data": {
      "text/plain": [
       "{'max_iter': 1, 'penalty': 'l2', 'solver': 'saga'}"
      ]
     },
     "execution_count": 32,
     "metadata": {},
     "output_type": "execute_result"
    }
   ],
   "source": [
    "modelLR_GS.fit(X_train, y_train)\n",
    "modelLR_GS.best_params_"
   ]
  },
  {
   "cell_type": "code",
   "execution_count": 33,
   "metadata": {},
   "outputs": [],
   "source": [
    "BestModelLR = LogisticRegression(solver='liblinear', penalty = 'l2', max_iter = 10)\n",
    "BestModelLR.fit(X_train, y_train)\n",
    "\n",
    "# Prediction\n",
    "y_predBestLR = BestModelLR.predict(X_test)"
   ]
  },
  {
   "cell_type": "markdown",
   "metadata": {},
   "source": [
    "### Hyperparameters for Random Forest"
   ]
  },
  {
   "cell_type": "code",
   "execution_count": 34,
   "metadata": {},
   "outputs": [],
   "source": [
    "max_depth = [10, 100, 1000]\n",
    "min_samples_leaf = [100, 1000, 10000]\n",
    "min_samples_split = [100, 200, 500]\n",
    "n_estimators = [100, 200, 500]\n",
    "\n",
    "RFparam = {'max_depth' : max_depth, 'min_samples_leaf': min_samples_leaf, \n",
    "             'min_samples_split' : min_samples_split, 'n_estimators' : n_estimators}"
   ]
  },
  {
   "cell_type": "code",
   "execution_count": 35,
   "metadata": {},
   "outputs": [],
   "source": [
    "modelRF_GS = RandomForestClassifier()\n",
    "modelRF_GS = GridSearchCV(\n",
    "    modelRF_GS, RFparam, cv = 5)"
   ]
  },
  {
   "cell_type": "code",
   "execution_count": 36,
   "metadata": {},
   "outputs": [
    {
     "data": {
      "text/plain": [
       "{'max_depth': 1000,\n",
       " 'min_samples_leaf': 100,\n",
       " 'min_samples_split': 100,\n",
       " 'n_estimators': 500}"
      ]
     },
     "execution_count": 36,
     "metadata": {},
     "output_type": "execute_result"
    }
   ],
   "source": [
    "modelRF_GS.fit(X_train, y_train)\n",
    "modelRF_GS.best_params_"
   ]
  },
  {
   "cell_type": "code",
   "execution_count": 37,
   "metadata": {},
   "outputs": [],
   "source": [
    "BestModelRF = RandomForestClassifier(max_depth= 1000, min_samples_leaf= 100, min_samples_split= 100, n_estimators= 200)\n",
    "BestModelRF.fit(X_train, y_train)\n",
    "\n",
    "# Prediction\n",
    "y_predBestRF = BestModelRF.predict(X_test)"
   ]
  },
  {
   "cell_type": "markdown",
   "metadata": {},
   "source": [
    "# Compare model after using Hyperparameter"
   ]
  },
  {
   "cell_type": "code",
   "execution_count": 38,
   "metadata": {},
   "outputs": [
    {
     "data": {
      "text/html": [
       "<div>\n",
       "<style scoped>\n",
       "    .dataframe tbody tr th:only-of-type {\n",
       "        vertical-align: middle;\n",
       "    }\n",
       "\n",
       "    .dataframe tbody tr th {\n",
       "        vertical-align: top;\n",
       "    }\n",
       "\n",
       "    .dataframe thead th {\n",
       "        text-align: right;\n",
       "    }\n",
       "</style>\n",
       "<table border=\"1\" class=\"dataframe\">\n",
       "  <thead>\n",
       "    <tr style=\"text-align: right;\">\n",
       "      <th></th>\n",
       "      <th>Model</th>\n",
       "      <th>Best XY Test Model Score</th>\n",
       "      <th>Best XY Train Model Score</th>\n",
       "      <th>Best Precision Score</th>\n",
       "      <th>Best Recall Score</th>\n",
       "      <th>Best f1 Score</th>\n",
       "      <th>Best Accuracy Score</th>\n",
       "    </tr>\n",
       "  </thead>\n",
       "  <tbody>\n",
       "    <tr>\n",
       "      <td>0</td>\n",
       "      <td>Logistic Regression</td>\n",
       "      <td>0.955</td>\n",
       "      <td>0.97000</td>\n",
       "      <td>0.981308</td>\n",
       "      <td>0.937500</td>\n",
       "      <td>0.958904</td>\n",
       "      <td>0.955</td>\n",
       "    </tr>\n",
       "    <tr>\n",
       "      <td>1</td>\n",
       "      <td>Random Forest</td>\n",
       "      <td>0.925</td>\n",
       "      <td>0.94125</td>\n",
       "      <td>0.936937</td>\n",
       "      <td>0.928571</td>\n",
       "      <td>0.932735</td>\n",
       "      <td>0.925</td>\n",
       "    </tr>\n",
       "  </tbody>\n",
       "</table>\n",
       "</div>"
      ],
      "text/plain": [
       "                 Model  Best XY Test Model Score  Best XY Train Model Score  \\\n",
       "0  Logistic Regression                     0.955                    0.97000   \n",
       "1        Random Forest                     0.925                    0.94125   \n",
       "\n",
       "   Best Precision Score  Best Recall Score  Best f1 Score  Best Accuracy Score  \n",
       "0              0.981308           0.937500       0.958904                0.955  \n",
       "1              0.936937           0.928571       0.932735                0.925  "
      ]
     },
     "execution_count": 38,
     "metadata": {},
     "output_type": "execute_result"
    }
   ],
   "source": [
    "Bestf1_scoreLR = f1_score(y_test, y_predBestLR)\n",
    "Bestf1_scoreRF = f1_score(y_test, y_predBestRF)\n",
    "\n",
    "Bestprecision_scoreLR = precision_score(y_test, y_predBestLR)\n",
    "Bestprecision_scoreRF = precision_score(y_test, y_predBestRF)\n",
    "\n",
    "Bestrecall_scoreLR = recall_score(y_test, y_predBestLR)\n",
    "Bestrecall_scoreRF = recall_score(y_test, y_predBestRF)\n",
    "\n",
    "Bestaccuracy_scoreLR = accuracy_score(y_test, y_predBestLR)\n",
    "Bestaccuracy_scoreRF = accuracy_score(y_test, y_predBestRF)\n",
    "\n",
    "BestXYtrain_scoreLR = BestModelLR.score(X_train, y_train)\n",
    "BestXYtrain_scoreRF = BestModelRF.score(X_train, y_train)\n",
    "\n",
    "BestXYtest_scoreLR = BestModelLR.score(X_test, y_test)\n",
    "BestXYtest_scoreRF = BestModelRF.score(X_test, y_test)\n",
    "\n",
    "\n",
    "scores = {'Model': ['Logistic Regression', 'Random Forest'],\n",
    "          'Best XY Test Model Score' :[BestXYtest_scoreLR, BestXYtest_scoreRF],\n",
    "          'Best XY Train Model Score' : [BestXYtrain_scoreLR, BestXYtrain_scoreRF],\n",
    "          'Best Precision Score': [Bestprecision_scoreLR, Bestprecision_scoreRF],\n",
    "         'Best Recall Score' : [Bestrecall_scoreLR, Bestrecall_scoreRF],\n",
    "          'Best f1 Score' : [Bestf1_scoreLR, Bestf1_scoreRF],\n",
    "         'Best Accuracy Score' : [Bestaccuracy_scoreLR, Bestaccuracy_scoreRF]}\n",
    "\n",
    "Bestmodel_compare = pd.DataFrame(scores, columns=['Model', 'Best XY Test Model Score', 'Best XY Train Model Score', 'Best Precision Score', 'Best Recall Score', 'Best f1 Score', 'Best Accuracy Score'])\n",
    "Bestmodel_compare"
   ]
  },
  {
   "cell_type": "code",
   "execution_count": 39,
   "metadata": {},
   "outputs": [
    {
     "data": {
      "text/html": [
       "<div>\n",
       "<style scoped>\n",
       "    .dataframe tbody tr th:only-of-type {\n",
       "        vertical-align: middle;\n",
       "    }\n",
       "\n",
       "    .dataframe tbody tr th {\n",
       "        vertical-align: top;\n",
       "    }\n",
       "\n",
       "    .dataframe thead th {\n",
       "        text-align: right;\n",
       "    }\n",
       "</style>\n",
       "<table border=\"1\" class=\"dataframe\">\n",
       "  <thead>\n",
       "    <tr style=\"text-align: right;\">\n",
       "      <th></th>\n",
       "      <th>Model</th>\n",
       "      <th>XY Test Model Score</th>\n",
       "      <th>XY Train Model Score</th>\n",
       "      <th>Precision Score</th>\n",
       "      <th>Recall Score</th>\n",
       "      <th>f1 Score</th>\n",
       "      <th>Accuracy Score</th>\n",
       "    </tr>\n",
       "  </thead>\n",
       "  <tbody>\n",
       "    <tr>\n",
       "      <td>0</td>\n",
       "      <td>Logistic Regression</td>\n",
       "      <td>0.955</td>\n",
       "      <td>0.96625</td>\n",
       "      <td>0.981308</td>\n",
       "      <td>0.937500</td>\n",
       "      <td>0.958904</td>\n",
       "      <td>0.955</td>\n",
       "    </tr>\n",
       "    <tr>\n",
       "      <td>1</td>\n",
       "      <td>Random Forest</td>\n",
       "      <td>0.960</td>\n",
       "      <td>1.00000</td>\n",
       "      <td>0.972727</td>\n",
       "      <td>0.955357</td>\n",
       "      <td>0.963964</td>\n",
       "      <td>0.960</td>\n",
       "    </tr>\n",
       "  </tbody>\n",
       "</table>\n",
       "</div>"
      ],
      "text/plain": [
       "                 Model  XY Test Model Score  XY Train Model Score  \\\n",
       "0  Logistic Regression                0.955               0.96625   \n",
       "1        Random Forest                0.960               1.00000   \n",
       "\n",
       "   Precision Score  Recall Score  f1 Score  Accuracy Score  \n",
       "0         0.981308      0.937500  0.958904           0.955  \n",
       "1         0.972727      0.955357  0.963964           0.960  "
      ]
     },
     "execution_count": 39,
     "metadata": {},
     "output_type": "execute_result"
    }
   ],
   "source": [
    "model_compare = model_compare.drop(index =[2, 3])\n",
    "model_compare"
   ]
  },
  {
   "cell_type": "markdown",
   "metadata": {},
   "source": [
    "- Dari score diatas yang paling bagus adalah Logistic Regression yang paling stabil. dalam kasus ini kita predik pengunjung yang mengklik\n",
    "- Rata rata score pada saat di hyperparameter malah turun, tapi itu bagus karena pengecualian untuk kasus ini semua scorenya diatas 0.90, kita lebih memilih yang tidak terlalu tinggi untuk menghindari over fitting pada model\n",
    "- Kita ambil Logistic regression sebagai best model karena score pada fitur Random Forest ada yang bernilai 1"
   ]
  },
  {
   "cell_type": "markdown",
   "metadata": {},
   "source": [
    "### Confusion matrix dan calculation report for best model"
   ]
  },
  {
   "cell_type": "code",
   "execution_count": 40,
   "metadata": {},
   "outputs": [
    {
     "name": "stdout",
     "output_type": "stream",
     "text": [
      "\n",
      "Confusion Matrix:\n"
     ]
    },
    {
     "data": {
      "text/plain": [
       "array([[ 86,   2],\n",
       "       [  7, 105]], dtype=int64)"
      ]
     },
     "execution_count": 40,
     "metadata": {},
     "output_type": "execute_result"
    }
   ],
   "source": [
    "print('\\nConfusion Matrix:')\n",
    "BestCMLR = confusion_matrix(y_test, y_predBestLR)\n",
    "BestCMLR"
   ]
  },
  {
   "cell_type": "code",
   "execution_count": 41,
   "metadata": {},
   "outputs": [],
   "source": [
    "labels = ['Click', 'NoClick']"
   ]
  },
  {
   "cell_type": "code",
   "execution_count": 42,
   "metadata": {},
   "outputs": [
    {
     "name": "stdout",
     "output_type": "stream",
     "text": [
      "              precision    recall  f1-score   support\n",
      "\n",
      "       Click       0.92      0.98      0.95        88\n",
      "     NoClick       0.98      0.94      0.96       112\n",
      "\n",
      "    accuracy                           0.95       200\n",
      "   macro avg       0.95      0.96      0.95       200\n",
      "weighted avg       0.96      0.95      0.96       200\n",
      "\n"
     ]
    },
    {
     "data": {
      "image/png": "[encoded data removed]",
      "text/plain": [
       "<Figure size 576x360 with 2 Axes>"
      ]
     },
     "metadata": {
      "needs_background": "light"
     },
     "output_type": "display_data"
    }
   ],
   "source": [
    "print(classification_report(y_test, y_predBestLR, target_names = labels))\n",
    "\n",
    "f, ax = plt.subplots(figsize=(8,5))\n",
    "sns.heatmap(BestCMLR, annot=True, fmt=\".0f\", ax=ax)\n",
    "plt.title('Confusion matrix for Logistic Regression with Hyperparameters', y=1, size=10)\n",
    "\n",
    "ax.xaxis.set_ticklabels(labels)\n",
    "ax.yaxis.set_ticklabels(labels)\n",
    "\n",
    "plt.xlabel(\"y AKTUAL\")\n",
    "plt.ylabel(\"y PREDIKSI\")\n",
    "plt.show()"
   ]
  },
  {
   "cell_type": "markdown",
   "metadata": {},
   "source": [
    "# Logistic Regression Variable Importance"
   ]
  },
  {
   "cell_type": "code",
   "execution_count": 43,
   "metadata": {},
   "outputs": [],
   "source": [
    "columns = X.columns\n",
    "train = pd.DataFrame(np.atleast_2d(X_train), columns=columns)"
   ]
  },
  {
   "cell_type": "code",
   "execution_count": 44,
   "metadata": {},
   "outputs": [
    {
     "data": {
      "text/html": [
       "<div>\n",
       "<style scoped>\n",
       "    .dataframe tbody tr th:only-of-type {\n",
       "        vertical-align: middle;\n",
       "    }\n",
       "\n",
       "    .dataframe tbody tr th {\n",
       "        vertical-align: top;\n",
       "    }\n",
       "\n",
       "    .dataframe thead th {\n",
       "        text-align: right;\n",
       "    }\n",
       "</style>\n",
       "<table border=\"1\" class=\"dataframe\">\n",
       "  <thead>\n",
       "    <tr style=\"text-align: right;\">\n",
       "      <th></th>\n",
       "      <th>index</th>\n",
       "      <th>importance</th>\n",
       "    </tr>\n",
       "  </thead>\n",
       "  <tbody>\n",
       "    <tr>\n",
       "      <td>0</td>\n",
       "      <td>Daily Internet Usage</td>\n",
       "      <td>0.487150</td>\n",
       "    </tr>\n",
       "    <tr>\n",
       "      <td>1</td>\n",
       "      <td>Daily Time Spent on Site</td>\n",
       "      <td>0.348945</td>\n",
       "    </tr>\n",
       "    <tr>\n",
       "      <td>2</td>\n",
       "      <td>Area Income</td>\n",
       "      <td>0.129757</td>\n",
       "    </tr>\n",
       "    <tr>\n",
       "      <td>3</td>\n",
       "      <td>Age</td>\n",
       "      <td>0.018715</td>\n",
       "    </tr>\n",
       "    <tr>\n",
       "      <td>4</td>\n",
       "      <td>dayofweek</td>\n",
       "      <td>0.005209</td>\n",
       "    </tr>\n",
       "    <tr>\n",
       "      <td>5</td>\n",
       "      <td>Hour</td>\n",
       "      <td>0.004171</td>\n",
       "    </tr>\n",
       "    <tr>\n",
       "      <td>6</td>\n",
       "      <td>Day</td>\n",
       "      <td>0.002857</td>\n",
       "    </tr>\n",
       "    <tr>\n",
       "      <td>7</td>\n",
       "      <td>Month</td>\n",
       "      <td>0.002244</td>\n",
       "    </tr>\n",
       "    <tr>\n",
       "      <td>8</td>\n",
       "      <td>Male</td>\n",
       "      <td>0.000953</td>\n",
       "    </tr>\n",
       "  </tbody>\n",
       "</table>\n",
       "</div>"
      ],
      "text/plain": [
       "                      index  importance\n",
       "0      Daily Internet Usage    0.487150\n",
       "1  Daily Time Spent on Site    0.348945\n",
       "2               Area Income    0.129757\n",
       "3                       Age    0.018715\n",
       "4                 dayofweek    0.005209\n",
       "5                      Hour    0.004171\n",
       "6                       Day    0.002857\n",
       "7                     Month    0.002244\n",
       "8                      Male    0.000953"
      ]
     },
     "execution_count": 44,
     "metadata": {},
     "output_type": "execute_result"
    }
   ],
   "source": [
    "feature_importances = pd.DataFrame(BestModelRF.feature_importances_,\n",
    "                                   index = train.columns,\n",
    "                                    columns=['importance']).sort_values('importance', ascending=False)\n",
    "feature_importances = feature_importances.reset_index()\n",
    "feature_importances.head(10)"
   ]
  },
  {
   "cell_type": "code",
   "execution_count": 45,
   "metadata": {},
   "outputs": [
    {
     "data": {
      "image/png": "[encoded data removed]",
      "text/plain": [
       "<Figure size 936x504 with 1 Axes>"
      ]
     },
     "metadata": {
      "needs_background": "light"
     },
     "output_type": "display_data"
    }
   ],
   "source": [
    "plt.figure(figsize=(13, 7))\n",
    "sns.barplot(\n",
    "    x=\"importance\", y='index',\n",
    "    data=feature_importances[0:10], label=\"Total\"\n",
    ")\n",
    "plt.title(\"Logistic Regression Variable Importance\")\n",
    "plt.ylabel(\"Variable\")\n",
    "plt.xlabel(\"Importance\")\n",
    "plt.show()"
   ]
  },
  {
   "cell_type": "code",
   "execution_count": 46,
   "metadata": {},
   "outputs": [
    {
     "data": {
      "text/html": [
       "<div>\n",
       "<style scoped>\n",
       "    .dataframe tbody tr th:only-of-type {\n",
       "        vertical-align: middle;\n",
       "    }\n",
       "\n",
       "    .dataframe tbody tr th {\n",
       "        vertical-align: top;\n",
       "    }\n",
       "\n",
       "    .dataframe thead th {\n",
       "        text-align: right;\n",
       "    }\n",
       "</style>\n",
       "<table border=\"1\" class=\"dataframe\">\n",
       "  <thead>\n",
       "    <tr style=\"text-align: right;\">\n",
       "      <th></th>\n",
       "      <th>Day</th>\n",
       "      <th>Not Clicked</th>\n",
       "      <th>Clicked</th>\n",
       "    </tr>\n",
       "  </thead>\n",
       "  <tbody>\n",
       "    <tr>\n",
       "      <td>0</td>\n",
       "      <td>Mon</td>\n",
       "      <td>68</td>\n",
       "      <td>72</td>\n",
       "    </tr>\n",
       "    <tr>\n",
       "      <td>1</td>\n",
       "      <td>Tue</td>\n",
       "      <td>67</td>\n",
       "      <td>55</td>\n",
       "    </tr>\n",
       "    <tr>\n",
       "      <td>2</td>\n",
       "      <td>Wed</td>\n",
       "      <td>77</td>\n",
       "      <td>79</td>\n",
       "    </tr>\n",
       "    <tr>\n",
       "      <td>3</td>\n",
       "      <td>Thu</td>\n",
       "      <td>63</td>\n",
       "      <td>79</td>\n",
       "    </tr>\n",
       "    <tr>\n",
       "      <td>4</td>\n",
       "      <td>Fri</td>\n",
       "      <td>84</td>\n",
       "      <td>71</td>\n",
       "    </tr>\n",
       "    <tr>\n",
       "      <td>5</td>\n",
       "      <td>Sat</td>\n",
       "      <td>62</td>\n",
       "      <td>64</td>\n",
       "    </tr>\n",
       "    <tr>\n",
       "      <td>6</td>\n",
       "      <td>Sun</td>\n",
       "      <td>79</td>\n",
       "      <td>80</td>\n",
       "    </tr>\n",
       "  </tbody>\n",
       "</table>\n",
       "</div>"
      ],
      "text/plain": [
       "   Day  Not Clicked  Clicked\n",
       "0  Mon           68       72\n",
       "1  Tue           67       55\n",
       "2  Wed           77       79\n",
       "3  Thu           63       79\n",
       "4  Fri           84       71\n",
       "5  Sat           62       64\n",
       "6  Sun           79       80"
      ]
     },
     "execution_count": 46,
     "metadata": {},
     "output_type": "execute_result"
    }
   ],
   "source": [
    "weekday_counts = pd.crosstab(ad_data[\"Clicked on Ad\"], ad_data[\"dayofweek\"])\n",
    "weekday_counts.columns = ['Mon', 'Tue', 'Wed', 'Thu', 'Fri', 'Sat', 'Sun']\n",
    "df_day = weekday_counts.transpose().reset_index()\n",
    "df_day.columns = ['Day', 'Not Clicked', 'Clicked']\n",
    "df_day"
   ]
  },
  {
   "cell_type": "code",
   "execution_count": 47,
   "metadata": {},
   "outputs": [
    {
     "data": {
      "text/html": [
       "<div>\n",
       "<style scoped>\n",
       "    .dataframe tbody tr th:only-of-type {\n",
       "        vertical-align: middle;\n",
       "    }\n",
       "\n",
       "    .dataframe tbody tr th {\n",
       "        vertical-align: top;\n",
       "    }\n",
       "\n",
       "    .dataframe thead th {\n",
       "        text-align: right;\n",
       "    }\n",
       "</style>\n",
       "<table border=\"1\" class=\"dataframe\">\n",
       "  <thead>\n",
       "    <tr style=\"text-align: right;\">\n",
       "      <th></th>\n",
       "      <th>Not Clicked</th>\n",
       "      <th>Clicked</th>\n",
       "    </tr>\n",
       "    <tr>\n",
       "      <th>Hour</th>\n",
       "      <th></th>\n",
       "      <th></th>\n",
       "    </tr>\n",
       "  </thead>\n",
       "  <tbody>\n",
       "    <tr>\n",
       "      <td>0</td>\n",
       "      <td>19</td>\n",
       "      <td>26</td>\n",
       "    </tr>\n",
       "    <tr>\n",
       "      <td>1</td>\n",
       "      <td>16</td>\n",
       "      <td>16</td>\n",
       "    </tr>\n",
       "    <tr>\n",
       "      <td>2</td>\n",
       "      <td>19</td>\n",
       "      <td>17</td>\n",
       "    </tr>\n",
       "    <tr>\n",
       "      <td>3</td>\n",
       "      <td>19</td>\n",
       "      <td>23</td>\n",
       "    </tr>\n",
       "    <tr>\n",
       "      <td>4</td>\n",
       "      <td>21</td>\n",
       "      <td>21</td>\n",
       "    </tr>\n",
       "    <tr>\n",
       "      <td>5</td>\n",
       "      <td>23</td>\n",
       "      <td>21</td>\n",
       "    </tr>\n",
       "    <tr>\n",
       "      <td>6</td>\n",
       "      <td>16</td>\n",
       "      <td>23</td>\n",
       "    </tr>\n",
       "    <tr>\n",
       "      <td>7</td>\n",
       "      <td>28</td>\n",
       "      <td>26</td>\n",
       "    </tr>\n",
       "    <tr>\n",
       "      <td>8</td>\n",
       "      <td>22</td>\n",
       "      <td>21</td>\n",
       "    </tr>\n",
       "    <tr>\n",
       "      <td>9</td>\n",
       "      <td>21</td>\n",
       "      <td>28</td>\n",
       "    </tr>\n",
       "    <tr>\n",
       "      <td>10</td>\n",
       "      <td>17</td>\n",
       "      <td>14</td>\n",
       "    </tr>\n",
       "    <tr>\n",
       "      <td>11</td>\n",
       "      <td>16</td>\n",
       "      <td>24</td>\n",
       "    </tr>\n",
       "    <tr>\n",
       "      <td>12</td>\n",
       "      <td>22</td>\n",
       "      <td>16</td>\n",
       "    </tr>\n",
       "    <tr>\n",
       "      <td>13</td>\n",
       "      <td>21</td>\n",
       "      <td>21</td>\n",
       "    </tr>\n",
       "    <tr>\n",
       "      <td>14</td>\n",
       "      <td>22</td>\n",
       "      <td>21</td>\n",
       "    </tr>\n",
       "    <tr>\n",
       "      <td>15</td>\n",
       "      <td>16</td>\n",
       "      <td>19</td>\n",
       "    </tr>\n",
       "    <tr>\n",
       "      <td>16</td>\n",
       "      <td>23</td>\n",
       "      <td>16</td>\n",
       "    </tr>\n",
       "    <tr>\n",
       "      <td>17</td>\n",
       "      <td>18</td>\n",
       "      <td>23</td>\n",
       "    </tr>\n",
       "    <tr>\n",
       "      <td>18</td>\n",
       "      <td>16</td>\n",
       "      <td>25</td>\n",
       "    </tr>\n",
       "    <tr>\n",
       "      <td>19</td>\n",
       "      <td>20</td>\n",
       "      <td>19</td>\n",
       "    </tr>\n",
       "    <tr>\n",
       "      <td>20</td>\n",
       "      <td>26</td>\n",
       "      <td>24</td>\n",
       "    </tr>\n",
       "    <tr>\n",
       "      <td>21</td>\n",
       "      <td>29</td>\n",
       "      <td>19</td>\n",
       "    </tr>\n",
       "    <tr>\n",
       "      <td>22</td>\n",
       "      <td>24</td>\n",
       "      <td>19</td>\n",
       "    </tr>\n",
       "    <tr>\n",
       "      <td>23</td>\n",
       "      <td>26</td>\n",
       "      <td>18</td>\n",
       "    </tr>\n",
       "  </tbody>\n",
       "</table>\n",
       "</div>"
      ],
      "text/plain": [
       "      Not Clicked  Clicked\n",
       "Hour                      \n",
       "0              19       26\n",
       "1              16       16\n",
       "2              19       17\n",
       "3              19       23\n",
       "4              21       21\n",
       "5              23       21\n",
       "6              16       23\n",
       "7              28       26\n",
       "8              22       21\n",
       "9              21       28\n",
       "10             17       14\n",
       "11             16       24\n",
       "12             22       16\n",
       "13             21       21\n",
       "14             22       21\n",
       "15             16       19\n",
       "16             23       16\n",
       "17             18       23\n",
       "18             16       25\n",
       "19             20       19\n",
       "20             26       24\n",
       "21             29       19\n",
       "22             24       19\n",
       "23             26       18"
      ]
     },
     "execution_count": 47,
     "metadata": {},
     "output_type": "execute_result"
    }
   ],
   "source": [
    "hour_counts = pd.crosstab(ad_data[\"Clicked on Ad\"], ad_data[\"Hour\"])\n",
    "df_hour = hour_counts.transpose()\n",
    "df_hour.columns = ['Not Clicked', 'Clicked']\n",
    "df_hour"
   ]
  },
  {
   "cell_type": "code",
   "execution_count": 48,
   "metadata": {},
   "outputs": [],
   "source": [
    "# weekday_counts = pd.crosstab(ad_data[\"Clicked on Ad\"], ad_data[\"Day\"])\n",
    "# weekdays = ['Mon', 'Tue', 'Wed', 'Thu', 'Fri', 'Sat', 'Sun']\n",
    "\n",
    "# angles = [(n / 7) * 2 * np.pi for n in range(8)]  # Seven months in data\n",
    "\n",
    "# subplot_kw = {\n",
    "#     'polar': True\n",
    "# }\n",
    "\n",
    "# fig, ax = plt.subplots(figsize=(10, 10), subplot_kw=subplot_kw)\n",
    "# ax.set_theta_offset(np.pi / 2)\n",
    "# ax.set_theta_direction(-1)\n",
    "# ax.set_rlabel_position(0)\n",
    "\n",
    "# plt.xticks(angles[:-1], weekdays)\n",
    "# plt.yticks(color=\"grey\", size=7)\n",
    "\n",
    "# weekday_counts_nonclicked = weekday_counts.iloc[0].tolist()\n",
    "# weekday_counts_nonclicked += weekday_counts_nonclicked[:1]  # Properly loops the circle back\n",
    "\n",
    "# ax.plot(angles, weekday_counts_nonclicked, linewidth=1, linestyle='solid', label=\"Didn't Click Ad\")\n",
    "# ax.fill(angles,  weekday_counts_nonclicked, alpha=0.1)\n",
    "# plt.show()"
   ]
  },
  {
   "cell_type": "code",
   "execution_count": 49,
   "metadata": {},
   "outputs": [],
   "source": [
    "# weekday_counts_clicked = weekday_counts.iloc[1].tolist()\n",
    "# weekday_counts_clicked += weekday_counts_clicked[:1]  # Properly loops the circle back\n",
    "\n",
    "# ax.plot(angles, weekday_counts_clicked, linewidth=1, linestyle='solid', label=\"Clicked Ad\")\n",
    "# ax.fill(angles,  weekday_counts_clicked, 'orange', alpha=0.1)\n",
    "\n",
    "# plt.title(\"Counts of People that Click and Didn't Click Ads for Each Weekday\")\n",
    "# plt.legend(loc='upper right', bbox_to_anchor=(0.1, 0.1))\n",
    "\n",
    "# plt.show()"
   ]
  },
  {
   "cell_type": "markdown",
   "metadata": {},
   "source": [
    "# Final model from the best feature\n",
    "\n",
    "### Splitting data"
   ]
  },
  {
   "cell_type": "code",
   "execution_count": 58,
   "metadata": {},
   "outputs": [],
   "source": [
    "Xfinal = ad_data[['Daily Time Spent on Site', 'Age', 'Area Income','Daily Internet Usage', 'Hour', 'dayofweek']]\n",
    "yfinal = ad_data['Clicked on Ad']"
   ]
  },
  {
   "cell_type": "code",
   "execution_count": 59,
   "metadata": {},
   "outputs": [],
   "source": [
    "Xfinal_train, Xfinal_test, yfinal_train, yfinal_test = train_test_split(Xfinal, yfinal, test_size=0.20, shuffle=False)"
   ]
  },
  {
   "cell_type": "markdown",
   "metadata": {},
   "source": [
    "### Scaling data"
   ]
  },
  {
   "cell_type": "code",
   "execution_count": 60,
   "metadata": {},
   "outputs": [],
   "source": [
    "standardScaler = StandardScaler()\n",
    "Xfinal_train = standardScaler.fit_transform(Xfinal_train)\n",
    "Xfinal_test = standardScaler.transform(Xfinal_test)"
   ]
  },
  {
   "cell_type": "code",
   "execution_count": 61,
   "metadata": {},
   "outputs": [],
   "source": [
    "FinalModelLR = LogisticRegression()\n",
    "FinalModelLR.fit(Xfinal_train, yfinal_train)\n",
    "\n",
    "# Prediction\n",
    "yfinal_predLR = FinalModelLR.predict(Xfinal_test)"
   ]
  },
  {
   "cell_type": "code",
   "execution_count": 62,
   "metadata": {},
   "outputs": [
    {
     "name": "stdout",
     "output_type": "stream",
     "text": [
      "\n",
      "Confusion Matrix:\n"
     ]
    },
    {
     "data": {
      "text/plain": [
       "array([[ 86,   2],\n",
       "       [  7, 105]], dtype=int64)"
      ]
     },
     "execution_count": 62,
     "metadata": {},
     "output_type": "execute_result"
    }
   ],
   "source": [
    "print('\\nConfusion Matrix:')\n",
    "FinalCMLR = confusion_matrix(yfinal_test, yfinal_predLR)\n",
    "FinalCMLR"
   ]
  },
  {
   "cell_type": "code",
   "execution_count": 63,
   "metadata": {},
   "outputs": [],
   "source": [
    "labels = ['Click', 'NoClick']"
   ]
  },
  {
   "cell_type": "code",
   "execution_count": 64,
   "metadata": {},
   "outputs": [
    {
     "name": "stdout",
     "output_type": "stream",
     "text": [
      "              precision    recall  f1-score   support\n",
      "\n",
      "       Click       0.92      0.98      0.95        88\n",
      "     NoClick       0.98      0.94      0.96       112\n",
      "\n",
      "    accuracy                           0.95       200\n",
      "   macro avg       0.95      0.96      0.95       200\n",
      "weighted avg       0.96      0.95      0.96       200\n",
      "\n"
     ]
    },
    {
     "data": {
      "image/png": "[encoded data removed]",
      "text/plain": [
       "<Figure size 576x360 with 2 Axes>"
      ]
     },
     "metadata": {
      "needs_background": "light"
     },
     "output_type": "display_data"
    }
   ],
   "source": [
    "print(classification_report(yfinal_test, yfinal_predLR, target_names = labels))\n",
    "\n",
    "f, ax = plt.subplots(figsize=(8,5))\n",
    "sns.heatmap(FinalCMLR, annot=True, fmt=\".0f\", ax=ax)\n",
    "plt.title('Confusion matrix for Logistic Regression Final', y=1, size=15)\n",
    "\n",
    "ax.xaxis.set_ticklabels(labels)\n",
    "ax.yaxis.set_ticklabels(labels)\n",
    "\n",
    "plt.xlabel(\"y AKTUAL\")\n",
    "plt.ylabel(\"y PREDIKSI\")\n",
    "plt.show()"
   ]
  },
  {
   "cell_type": "code",
   "execution_count": 65,
   "metadata": {},
   "outputs": [
    {
     "name": "stdout",
     "output_type": "stream",
     "text": [
      "Final Score XY Test Score: 0.955\n",
      "Final Score XY Train Score: 0.96375\n",
      "Final Precision Score: 0.9813084112149533\n",
      "Final Recall Score: 0.9375\n",
      "Final f1 Score: 0.958904109589041\n",
      "Final Accuracy Score: 0.955\n"
     ]
    }
   ],
   "source": [
    "Finalf1_scoreLR = f1_score(yfinal_test, yfinal_predLR)\n",
    "\n",
    "Finalprecision_scoreLR = precision_score(yfinal_test, yfinal_predLR)\n",
    "\n",
    "Finalrecall_scoreLR = recall_score(yfinal_test, yfinal_predLR)\n",
    "\n",
    "Finalaccuracy_scoreLR = accuracy_score(yfinal_test, yfinal_predLR)\n",
    "\n",
    "FinalXYtrain_scoreLR = FinalModelLR.score(Xfinal_train, yfinal_train)\n",
    "\n",
    "FinalXYtest_scoreLR = FinalModelLR.score(Xfinal_test, yfinal_test)\n",
    "\n",
    "print('Final Score XY Test Score:', FinalXYtest_scoreLR)\n",
    "print('Final Score XY Train Score:', FinalXYtrain_scoreLR)\n",
    "print('Final Precision Score:', Finalprecision_scoreLR)\n",
    "print('Final Recall Score:', Finalrecall_scoreLR)\n",
    "print('Final f1 Score:', Finalf1_scoreLR)\n",
    "print('Final Accuracy Score:', Finalaccuracy_scoreLR)"
   ]
  },
  {
   "cell_type": "markdown",
   "metadata": {},
   "source": [
    "## Conclusions"
   ]
  },
  {
   "cell_type": "markdown",
   "metadata": {},
   "source": [
    "untuk sementara Logistic Regression adalah model yang terbaik yang punya nilai precision yang bagus. Tidak memrlukan waktu yang banyak untuk mem-fit ke model, yang berarti untuk mencari best parameter juga akan cepat. Mengapa nila score dari dataset ini bagus karena tidak ada mising value dan juga mempunyai outlier yang sedikit. Sebenarnya masih banyak metode dan hal lain yang dapat kita coba.\n",
    "<br>\n",
    "<br>\n",
    "Kita rangkum score dari model terakhir ini\n",
    "1. model ini tidak under maupun over kalu diliat dari score XY train dan test\n",
    "2. mempunyai tingkat akurasi yang tinggi yaitu 95,5% | (TP+TN/TP+TN+FP+FN)\n",
    "3. score pada precision 97,7% | (TP/TP+FP)\n",
    "4. Recall pada model ini 92,4% | (TP/TP+FN) yang berarti menentukan berapa persen yang diprediksi klik dibandingkan keseluruhan pasien yang sebenarnya klik."
   ]
  },
  {
   "cell_type": "markdown",
   "metadata": {},
   "source": [
    "Penjelasan TP, FP, FN, TN:\n",
    "- TP = 11 mempredik pengunjung yang benar benar meng-klik\n",
    "- FP = 01 mempredik pengunjung yang meng-klik tapi sebenarnya tidak meng-klik\n",
    "- TN = 00 mempredik pengunjung yang benar benar tidak meng-klik\n",
    "- FN = 10 mempredik pengunjung yang tidak meng-klik tapi sebenarnya meng-klik\n",
    "- TP+FN = pengunjung yang benar benar meng-klik 86 + 7 = 93\n",
    "- FP+TN = pengunjung yang benar benar tidak meng-klik 2 + 105 = 107\n",
    "- TP+FP = prediksi pengunjung yang meng-klik 86 + 2 = 88\n",
    "- FN+TN = prediksi pengunjung yang tidak meng-klik 7 + 105 = 112\n",
    "<br>\n",
    "<br>\n",
    "Dilihat dari fitur importance-nya yang mempengaruhi orang pengunjung website untuk mengklik ad adalah Daily Time Spent on Site, Age, Area Income,Daily Internet Usage, Hour, Day<br>\n",
    "Kalau kita telaah lebih lanjut dari fitur dayofweek kita bisa ambil kesimpulan setiap harinya pengunjung yang klik dan tidak klik tidak berbeda jauh, dan setiap harinya pula pengunjung yang klik lebih banyak daripada yang tidak kecuali di hari selasa dan jumat.<br>\n",
    "Sedangkan dari fitur Hour yang kita dapat adalah tidak ada pattern yang menggambarkan range jam berapa saja yang sering kali diklik\n",
    "<br>\n",
    "<br>\n",
    "Dataset ini adalah milik dari suatu perusahaan Digital Agency. Kalau kita lihat dari segi bisnis yang perlu diperhatikan dari confusion matrix kita adalah tingkat FN yang berarti kalau tingakat FN-nya tinggi akan merugikan perusahaan. Artinya data yang kita keluarkan untuk bukti ke client tidak akurat dan akan merugikan perusahaan. Perusahaan akan tidak dipercaya karena tingat kliknya rendah kualitas iklan kita tidak dapat mengkait pengunjung website"
   ]
  },
  {
   "cell_type": "code",
   "execution_count": null,
   "metadata": {},
   "outputs": [],
   "source": []
  }
 ],
 "metadata": {
  "kernelspec": {
   "display_name": "Python 3",
   "language": "python",
   "name": "python3"
  },
  "language_info": {
   "codemirror_mode": {
    "name": "ipython",
    "version": 3
   },
   "file_extension": ".py",
   "mimetype": "text/x-python",
   "name": "python",
   "nbconvert_exporter": "python",
   "pygments_lexer": "ipython3",
   "version": "3.7.4"
  }
 },
 "nbformat": 4,
 "nbformat_minor": 2
}
